{
 "cells": [
  {
   "cell_type": "code",
   "execution_count": 1,
   "metadata": {},
   "outputs": [
    {
     "name": "stdout",
     "output_type": "stream",
     "text": [
      "----------------------------------------------------------\n",
      "                  Assingment Number 1              \n",
      "----------------------------------------------------------\n",
      "----------------------------------------------------------\n",
      "                  Question Number 5              \n",
      "----------------------------------------------------------\n",
      "Enter Your First Name : Asad\n",
      "Enter Your Last Name : Ullah\n",
      "Name :  Asad Ullah\n",
      "Name In Reverse :  Ullah Asad\n"
     ]
    }
   ],
   "source": [
    "import datetime\n",
    "\n",
    "print(\"----------------------------------------------------------\")\n",
    "print(\"                  Assingment Number 1              \")\n",
    "print(\"----------------------------------------------------------\")\n",
    "\n",
    "\n",
    "print(\"----------------------------------------------------------\")\n",
    "print(\"                  Question Number 5              \")\n",
    "print(\"----------------------------------------------------------\")\n",
    "\n",
    "a = input(\"Enter Your First Name : \")\n",
    "b = input(\"Enter Your Last Name : \")\n",
    "\n",
    "print(\"Name : \" ,a,b)\n",
    "\n",
    "print(\"Name In Reverse : \", b,a)\n",
    "\n"
   ]
  },
  {
   "cell_type": "code",
   "execution_count": null,
   "metadata": {},
   "outputs": [],
   "source": []
  }
 ],
 "metadata": {
  "kernelspec": {
   "display_name": "Python 3",
   "language": "python",
   "name": "python3"
  },
  "language_info": {
   "codemirror_mode": {
    "name": "ipython",
    "version": 3
   },
   "file_extension": ".py",
   "mimetype": "text/x-python",
   "name": "python",
   "nbconvert_exporter": "python",
   "pygments_lexer": "ipython3",
   "version": "3.7.4"
  }
 },
 "nbformat": 4,
 "nbformat_minor": 2
}
