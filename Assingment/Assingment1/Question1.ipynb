{
 "cells": [
  {
   "cell_type": "code",
   "execution_count": 1,
   "metadata": {},
   "outputs": [
    {
     "name": "stdout",
     "output_type": "stream",
     "text": [
      "----------------------------------------------------------\n",
      "                  Assingment Number 1              \n",
      "----------------------------------------------------------\n",
      "----------------------------------------------------------\n",
      "                  Question Number 1              \n",
      "----------------------------------------------------------\n",
      "\n",
      "\n",
      "\tTwinkle, twinkle, little star,  \n",
      "\t\tHow I wonder what you are!    \n",
      "\tUp above the world so high,        \n",
      "\t\tLike a diamond in the sky.  \n",
      "\tTwinkle, twinkle, little star,   \n",
      "\t\tHow I wonder what you are \n",
      "\n",
      "\n"
     ]
    }
   ],
   "source": [
    "import datetime\n",
    "\n",
    "print(\"----------------------------------------------------------\")\n",
    "print(\"                  Assingment Number 1              \")\n",
    "print(\"----------------------------------------------------------\")\n",
    "\n",
    "\n",
    "print(\"----------------------------------------------------------\")\n",
    "print(\"                  Question Number 1              \")\n",
    "print(\"----------------------------------------------------------\")\n",
    "\n",
    "print('''\n",
    "\n",
    "\tTwinkle, twinkle, little star,  \n",
    "\t\tHow I wonder what you are!    \n",
    "\tUp above the world so high,        \n",
    "\t\tLike a diamond in the sky.  \n",
    "\tTwinkle, twinkle, little star,   \n",
    "\t\tHow I wonder what you are \n",
    "\n",
    "''')\n",
    "\n",
    "\n"
   ]
  },
  {
   "cell_type": "code",
   "execution_count": null,
   "metadata": {},
   "outputs": [],
   "source": []
  }
 ],
 "metadata": {
  "kernelspec": {
   "display_name": "Python 3",
   "language": "python",
   "name": "python3"
  },
  "language_info": {
   "codemirror_mode": {
    "name": "ipython",
    "version": 3
   },
   "file_extension": ".py",
   "mimetype": "text/x-python",
   "name": "python",
   "nbconvert_exporter": "python",
   "pygments_lexer": "ipython3",
   "version": "3.7.4"
  }
 },
 "nbformat": 4,
 "nbformat_minor": 2
}
