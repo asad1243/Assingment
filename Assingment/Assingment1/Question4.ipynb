{
 "cells": [
  {
   "cell_type": "code",
   "execution_count": 2,
   "metadata": {},
   "outputs": [
    {
     "name": "stdout",
     "output_type": "stream",
     "text": [
      "----------------------------------------------------------\n",
      "                  Assingment Number 1              \n",
      "----------------------------------------------------------\n",
      "----------------------------------------------------------\n",
      "                  Question Number 4              \n",
      "----------------------------------------------------------\n",
      "Dafine the Radius Of The Circul : 4\n",
      "Given Radius Of The Circul Is :  4\n",
      "Area Of The Circul Is :  50.272\n"
     ]
    }
   ],
   "source": [
    "print(\"----------------------------------------------------------\")\n",
    "print(\"                  Assingment Number 1              \")\n",
    "print(\"----------------------------------------------------------\")\n",
    "\n",
    "\n",
    "print(\"----------------------------------------------------------\")\n",
    "print(\"                  Question Number 4              \")\n",
    "print(\"----------------------------------------------------------\")\n",
    "\n",
    "r = int(input(\"Dafine the Radius Of The Circul : \"))\n",
    "\n",
    "pi = 3.142\n",
    "\n",
    "result = pi * r**2\n",
    "\n",
    "print (\"Given Radius Of The Circul Is : \", r)\n",
    "print (\"Area Of The Circul Is : \", result)\n"
   ]
  },
  {
   "cell_type": "code",
   "execution_count": null,
   "metadata": {},
   "outputs": [],
   "source": []
  }
 ],
 "metadata": {
  "kernelspec": {
   "display_name": "Python 3",
   "language": "python",
   "name": "python3"
  },
  "language_info": {
   "codemirror_mode": {
    "name": "ipython",
    "version": 3
   },
   "file_extension": ".py",
   "mimetype": "text/x-python",
   "name": "python",
   "nbconvert_exporter": "python",
   "pygments_lexer": "ipython3",
   "version": "3.7.4"
  }
 },
 "nbformat": 4,
 "nbformat_minor": 2
}
