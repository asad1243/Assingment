{
 "cells": [
  {
   "cell_type": "code",
   "execution_count": 1,
   "metadata": {},
   "outputs": [
    {
     "name": "stdout",
     "output_type": "stream",
     "text": [
      "\n",
      "-------------------------------------QUESTION 4-------------------------------------\n",
      "\n",
      "The sum of all numeric values in list is: 36\n"
     ]
    }
   ],
   "source": [
    "print(\"\")\n",
    "print(\"-------------------------------------QUESTION 4-------------------------------------\")\n",
    "print(\"\")\n",
    "    \n",
    "number  = [10,11,15]\n",
    "summ = 0\n",
    "for i in number:\n",
    "    summ = summ + i\n",
    "print(\"The sum of all numeric values in list is:\",summ)"
   ]
  },
  {
   "cell_type": "code",
   "execution_count": null,
   "metadata": {},
   "outputs": [],
   "source": []
  }
 ],
 "metadata": {
  "kernelspec": {
   "display_name": "Python 3",
   "language": "python",
   "name": "python3"
  },
  "language_info": {
   "codemirror_mode": {
    "name": "ipython",
    "version": 3
   },
   "file_extension": ".py",
   "mimetype": "text/x-python",
   "name": "python",
   "nbconvert_exporter": "python",
   "pygments_lexer": "ipython3",
   "version": "3.7.4"
  }
 },
 "nbformat": 4,
 "nbformat_minor": 2
}
