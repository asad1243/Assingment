{
 "cells": [
  {
   "cell_type": "code",
   "execution_count": 2,
   "metadata": {},
   "outputs": [
    {
     "name": "stdout",
     "output_type": "stream",
     "text": [
      "-------------------------------------QUESTION2-------------------------------------\n",
      "Please insert a number 3\n",
      "Give number is ODD\n"
     ]
    }
   ],
   "source": [
    "print(\"-------------------------------------QUESTION2-------------------------------------\")\n",
    "number = int(input(\"Please insert a number \"))\n",
    "answer = number % 2\n",
    "if answer == 0:\n",
    "    print(\"Give number is EVEN\")\n",
    "else:\n",
    "    print(\"Give number is ODD\")"
   ]
  },
  {
   "cell_type": "code",
   "execution_count": null,
   "metadata": {},
   "outputs": [],
   "source": []
  }
 ],
 "metadata": {
  "kernelspec": {
   "display_name": "Python 3",
   "language": "python",
   "name": "python3"
  },
  "language_info": {
   "codemirror_mode": {
    "name": "ipython",
    "version": 3
   },
   "file_extension": ".py",
   "mimetype": "text/x-python",
   "name": "python",
   "nbconvert_exporter": "python",
   "pygments_lexer": "ipython3",
   "version": "3.7.4"
  }
 },
 "nbformat": 4,
 "nbformat_minor": 2
}
