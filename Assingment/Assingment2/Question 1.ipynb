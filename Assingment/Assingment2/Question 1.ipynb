{
 "cells": [
  {
   "cell_type": "code",
   "execution_count": 2,
   "metadata": {},
   "outputs": [
    {
     "name": "stdout",
     "output_type": "stream",
     "text": [
      "    Student Marksheet    \n",
      "Enter the marks of english : 45\n",
      "Enter the marks of sindhi : 56\n",
      "Enter the marks of computer : 52\n",
      "Enter the marks of chemistry : 85\n",
      "Enter the marks of Pakistan Studies : 78\n",
      "Marks Of English = 45\n",
      "Marks Of Sindhi = 56\n",
      "Marks Of Computer = 52\n",
      "Marks Of Chemistry = 85\n",
      "Marks Of Pakistan Studies = 78\n",
      "Total Marks Obtain :  316\n",
      "Your Percentage Is :  63 %\n",
      "B\n"
     ]
    }
   ],
   "source": [
    "print(\"    Student Marksheet    \")\n",
    "eng = int(input(\"Enter the marks of english : \"))\n",
    "sind = int(input(\"Enter the marks of sindhi : \"))\n",
    "comp = int(input(\"Enter the marks of computer : \"))\n",
    "chemis = int(input(\"Enter the marks of chemistry : \"))\n",
    "pst = int(input(\"Enter the marks of Pakistan Studies : \"))\n",
    "\n",
    "print(\"Marks Of English =\",eng)\n",
    "print(\"Marks Of Sindhi =\",sind)\n",
    "print(\"Marks Of Computer =\",comp)\n",
    "print(\"Marks Of Chemistry =\",chemis)\n",
    "print(\"Marks Of Pakistan Studies =\",pst)\n",
    "\n",
    "obt = eng + sind + comp + chemis + pst\n",
    "\n",
    "print(\"Total Marks Obtain : \",obt)\n",
    "\n",
    "per = obt / 500 * 100\n",
    "\n",
    "per1 = int(per)\n",
    "\n",
    "print(\"Your Percentage Is : \",per1,\"%\")\n",
    "\n",
    "if per>80:\n",
    " print(\"A++\")\n",
    "elif per>75:\n",
    " print(\"A+\")\n",
    "elif per>70:\n",
    " print(\"A\")\n",
    "elif per>65:\n",
    " print(\"B+\")\n",
    "elif per>60:\n",
    " print(\"B\")\n",
    "elif per>55:\n",
    " print(\"C+\")\n",
    "else:\n",
    " print(\"Fail\")"
   ]
  },
  {
   "cell_type": "code",
   "execution_count": null,
   "metadata": {},
   "outputs": [],
   "source": []
  }
 ],
 "metadata": {
  "kernelspec": {
   "display_name": "Python 3",
   "language": "python",
   "name": "python3"
  },
  "language_info": {
   "codemirror_mode": {
    "name": "ipython",
    "version": 3
   },
   "file_extension": ".py",
   "mimetype": "text/x-python",
   "name": "python",
   "nbconvert_exporter": "python",
   "pygments_lexer": "ipython3",
   "version": "3.7.4"
  }
 },
 "nbformat": 4,
 "nbformat_minor": 2
}
