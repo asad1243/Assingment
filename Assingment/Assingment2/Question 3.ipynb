{
 "cells": [
  {
   "cell_type": "code",
   "execution_count": 1,
   "metadata": {},
   "outputs": [
    {
     "name": "stdout",
     "output_type": "stream",
     "text": [
      "\n",
      "-------------------------------------QUESTION 3-------------------------------------\n",
      "\n",
      "The lenght Of the list is :  4\n"
     ]
    }
   ],
   "source": [
    "print(\"\")\n",
    "print(\"-------------------------------------QUESTION 3-------------------------------------\")\n",
    "print(\"\")\n",
    "\n",
    "a  = [\"Hello World\",10,\"you are awsome\",\"python\"]\n",
    "\n",
    "print(\"The lenght Of the list is : \",len(a))\n",
    "    \n"
   ]
  },
  {
   "cell_type": "code",
   "execution_count": null,
   "metadata": {},
   "outputs": [],
   "source": []
  }
 ],
 "metadata": {
  "kernelspec": {
   "display_name": "Python 3",
   "language": "python",
   "name": "python3"
  },
  "language_info": {
   "codemirror_mode": {
    "name": "ipython",
    "version": 3
   },
   "file_extension": ".py",
   "mimetype": "text/x-python",
   "name": "python",
   "nbconvert_exporter": "python",
   "pygments_lexer": "ipython3",
   "version": "3.7.4"
  }
 },
 "nbformat": 4,
 "nbformat_minor": 2
}
