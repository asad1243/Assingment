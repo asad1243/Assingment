{
 "cells": [
  {
   "cell_type": "code",
   "execution_count": 2,
   "metadata": {},
   "outputs": [
    {
     "name": "stdout",
     "output_type": "stream",
     "text": [
      "-------------------------------------QUESTION 6-------------------------------------\n",
      "Numbers which are lesser than 5 present in the list are: 1\n",
      "Numbers which are lesser than 5 present in the list are: 1\n",
      "Numbers which are lesser than 5 present in the list are: 2\n",
      "Numbers which are lesser than 5 present in the list are: 3\n"
     ]
    }
   ],
   "source": [
    "print(\"-------------------------------------QUESTION 6-------------------------------------\")\n",
    "\n",
    "given_list = [1,1,2,3,5,8,13,21,34,55,89]\n",
    "for i in given_list:\n",
    "    if i < 5:\n",
    "        print(\"Numbers which are lesser than 5 present in the list are:\",i)"
   ]
  },
  {
   "cell_type": "code",
   "execution_count": null,
   "metadata": {},
   "outputs": [],
   "source": []
  }
 ],
 "metadata": {
  "kernelspec": {
   "display_name": "Python 3",
   "language": "python",
   "name": "python3"
  },
  "language_info": {
   "codemirror_mode": {
    "name": "ipython",
    "version": 3
   },
   "file_extension": ".py",
   "mimetype": "text/x-python",
   "name": "python",
   "nbconvert_exporter": "python",
   "pygments_lexer": "ipython3",
   "version": "3.7.4"
  }
 },
 "nbformat": 4,
 "nbformat_minor": 2
}
