{
 "cells": [
  {
   "cell_type": "code",
   "execution_count": 2,
   "metadata": {},
   "outputs": [
    {
     "name": "stdout",
     "output_type": "stream",
     "text": [
      "Existing dictonary is {'first_name': 'Asad', 'last_name': 'Ullah'}\n",
      "Please enter a new Title for dictonaryfirst_name\n",
      "please enter a new Value for that keyAsad\n",
      "The key already exist in the current dictonary\n",
      "{'first_name': 'Asad', 'last_name': 'Ullah'}\n"
     ]
    }
   ],
   "source": [
    "dictonary = {\"first_name\":\"Asad\",\"last_name\":\"Ullah\"}\n",
    "print(\"Existing dictonary is\",dictonary)\n",
    "new_key = input(\"Please enter a new Title for dictonary\")\n",
    "new_value = input(\"please enter a new Value for that key\")\n",
    "if new_key in dictonary:\n",
    "    print(\"The key already exist in the current dictonary\")\n",
    "else :\n",
    "    dictonary[new_key] = new_value\n",
    "    print(dictonary)\n",
    "    \n",
    "print(dictonary)"
   ]
  },
  {
   "cell_type": "code",
   "execution_count": null,
   "metadata": {},
   "outputs": [],
   "source": []
  },
  {
   "cell_type": "code",
   "execution_count": null,
   "metadata": {},
   "outputs": [],
   "source": []
  }
 ],
 "metadata": {
  "kernelspec": {
   "display_name": "Python 3",
   "language": "python",
   "name": "python3"
  },
  "language_info": {
   "codemirror_mode": {
    "name": "ipython",
    "version": 3
   },
   "file_extension": ".py",
   "mimetype": "text/x-python",
   "name": "python",
   "nbconvert_exporter": "python",
   "pygments_lexer": "ipython3",
   "version": "3.7.4"
  }
 },
 "nbformat": 4,
 "nbformat_minor": 2
}
