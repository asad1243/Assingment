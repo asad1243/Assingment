{
 "cells": [
  {
   "cell_type": "code",
   "execution_count": 1,
   "metadata": {},
   "outputs": [
    {
     "name": "stdout",
     "output_type": "stream",
     "text": [
      "What funtion do you want to perform\n",
      "1.Addition\n",
      "2.Subtraction\n",
      "3.Multiplication\n",
      "4.Division\n",
      "5.Power function\n",
      "Enter option in number:3\n",
      "Enter first number5\n",
      "Enter second number3\n",
      "15\n"
     ]
    }
   ],
   "source": [
    "print(\"What funtion do you want to perform\")\n",
    "\n",
    "print(\"1.Addition\")\n",
    "print(\"2.Subtraction\")\n",
    "print(\"3.Multiplication\")\n",
    "print(\"4.Division\")\n",
    "print(\"5.Power function\")\n",
    "\n",
    "option = input(\"Enter option in number:\")\n",
    "\n",
    "number1 = int(input(\"Enter first number\"))\n",
    "number2 = int(input(\"Enter second number\"))\n",
    "\n",
    "if option == \"1\":\n",
    "    number = number1 + number2\n",
    "    print(number)\n",
    "elif option == \"2\":\n",
    "    number = number1 - number2\n",
    "    print(number)\n",
    "elif option == \"3\":\n",
    "    number = number1 * number2\n",
    "    print(number)\n",
    "elif option == \"4\":\n",
    "    number = number1 / number2\n",
    "    print(number)\n",
    "    \n",
    "elif option == \"5\":\n",
    "    number = number1**number2\n",
    "    print(number)\n"
   ]
  },
  {
   "cell_type": "code",
   "execution_count": null,
   "metadata": {},
   "outputs": [],
   "source": []
  }
 ],
 "metadata": {
  "kernelspec": {
   "display_name": "Python 3",
   "language": "python",
   "name": "python3"
  },
  "language_info": {
   "codemirror_mode": {
    "name": "ipython",
    "version": 3
   },
   "file_extension": ".py",
   "mimetype": "text/x-python",
   "name": "python",
   "nbconvert_exporter": "python",
   "pygments_lexer": "ipython3",
   "version": "3.7.4"
  }
 },
 "nbformat": 4,
 "nbformat_minor": 2
}
