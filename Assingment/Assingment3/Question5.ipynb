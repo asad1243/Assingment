{
 "cells": [
  {
   "cell_type": "code",
   "execution_count": 1,
   "metadata": {},
   "outputs": [
    {
     "name": "stdout",
     "output_type": "stream",
     "text": [
      "List without duplicates [2, 4, 10, 20, 5]\n",
      "List of duplicates [2, 4, 10, 20, 5, 2, 20, 4]\n"
     ]
    }
   ],
   "source": [
    "duplicate = [2, 4, 10, 20, 5, 2, 20, 4] \n",
    "final_list = [] \n",
    "duplicated_numbers = [] \n",
    "for num in duplicate: \n",
    "    if num not in final_list: \n",
    "        final_list.append(num) \n",
    "    if num in final_list:\n",
    "        duplicated_numbers.append(num)\n",
    "print(\"List without duplicates\",final_list)\n",
    "print(\"List of duplicates\",duplicated_numbers)"
   ]
  },
  {
   "cell_type": "code",
   "execution_count": null,
   "metadata": {},
   "outputs": [],
   "source": []
  }
 ],
 "metadata": {
  "kernelspec": {
   "display_name": "Python 3",
   "language": "python",
   "name": "python3"
  },
  "language_info": {
   "codemirror_mode": {
    "name": "ipython",
    "version": 3
   },
   "file_extension": ".py",
   "mimetype": "text/x-python",
   "name": "python",
   "nbconvert_exporter": "python",
   "pygments_lexer": "ipython3",
   "version": "3.7.4"
  }
 },
 "nbformat": 4,
 "nbformat_minor": 2
}
