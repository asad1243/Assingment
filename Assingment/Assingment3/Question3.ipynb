{
 "cells": [
  {
   "cell_type": "code",
   "execution_count": 1,
   "metadata": {},
   "outputs": [
    {
     "name": "stdout",
     "output_type": "stream",
     "text": [
      "Existing dictonary is {'first_name': 'haris', 'last_name': 'ahmed'}\n",
      "Please enter a new key for dictonarySchool\n",
      "please enter a new value for that keyHPGS\n",
      "{'first_name': 'haris', 'last_name': 'ahmed', 'School': 'HPGS'}\n"
     ]
    }
   ],
   "source": [
    "dictonary = {\"first_name\":\"haris\",\"last_name\":\"ahmed\"}\n",
    "print(\"Existing dictonary is\",dictonary)\n",
    "new_key = input(\"Please enter a new key for dictonary\")\n",
    "new_value = input(\"please enter a new value for that key\")\n",
    "dictonary[new_key] = new_value\n",
    "print(dictonary)\n"
   ]
  },
  {
   "cell_type": "code",
   "execution_count": null,
   "metadata": {},
   "outputs": [],
   "source": []
  }
 ],
 "metadata": {
  "kernelspec": {
   "display_name": "Python 3",
   "language": "python",
   "name": "python3"
  },
  "language_info": {
   "codemirror_mode": {
    "name": "ipython",
    "version": 3
   },
   "file_extension": ".py",
   "mimetype": "text/x-python",
   "name": "python",
   "nbconvert_exporter": "python",
   "pygments_lexer": "ipython3",
   "version": "3.7.4"
  }
 },
 "nbformat": 4,
 "nbformat_minor": 2
}
