{
 "cells": [
  {
   "cell_type": "markdown",
   "metadata": {},
   "source": [
    "# Assingment Number 6\n",
    "\n",
    "## *Object Oriented Programing:*\n",
    "#### Object Oriented Programing (OOP) is a paradigm in which real-world objects are each viewed as separate entities having their own state which is modified only by built in procedures.\n",
    "\n",
    "## *Benefits of OOP:*\n",
    "##### 1. We can reused codes easily due to class is sharable.\n",
    "##### 2.Fleibility through polymorphism.\n",
    "##### 3.The productivity of programming increases.\n",
    "##### 4.The programming gets easy and efficient.\n",
    "\n",
    "## *Differentiate B/w Function and Method:*\n",
    "##### Method is called on an object, unlike a function. Since we call a method on an object, it can access the data within it. A method may alter an object's state, but Function usually only operates on it, and then prints something or returns a value.\n",
    "\n",
    "## *Class:*\n",
    "##### It is a template or blue print about the capability of what an object can do.\n",
    "\n",
    "## *Object:*\n",
    "##### An object (instance) ia an instantation of a class. When class is defined, only the description for the object is defined. Therefore, no memory or storage is allocated.\n",
    "\n",
    "## *Attribute:*\n",
    "##### Attribute are the properties of the object.\n",
    "\n",
    "## *Behaviour:*\n",
    "##### The behavior of an object is defined by its methods, which are the functions and subroutines defined within the object class. Without class methods, a class would simply be a structure.\n"
   ]
  },
  {
   "cell_type": "code",
   "execution_count": 2,
   "metadata": {},
   "outputs": [
    {
     "name": "stdout",
     "output_type": "stream",
     "text": [
      "2004\n",
      "Daihatsu\n",
      "1800CC\n",
      "Metalic Blue\n",
      "Liana\n"
     ]
    }
   ],
   "source": [
    "class Car():\n",
    "    def __init__(self,model,colour,brand,name,speed):\n",
    "        self.model=model\n",
    "        self.colour=colour\n",
    "        self.brand=brand\n",
    "        self.name=name\n",
    "        self.speed=speed\n",
    "        \n",
    "        def updatemodel(self,newmodel):\n",
    "            self.model=newmodel\n",
    "\n",
    "        def updatecolour(self,newcolour):\n",
    "            self.colour=newcolour\n",
    "\n",
    "        def updatename(self,newname):\n",
    "            self.name=newname\n",
    "        \n",
    "Hiroof=Car(2004,\"White\",\"suzuki\",\"Hiroof\",\"1000CC\")\n",
    "\n",
    "Hijet=Car(2019,\"Silver\",\"Daihatsu\",\"Hijet\",\"1200CC\")\n",
    "\n",
    "Corolla=Car(2004,\"Black\",\"toyyota\",\"corolla\",\"1800CC\")\n",
    "\n",
    "Mehran=Car(2008,\"Metalic Blue\",\"honda\",\"Mehran\",\"1000CC\")\n",
    "\n",
    "Liana=Car(2019,\"Maroon\",\"Toyota\", \"Liana\", \"1300CC\")\n",
    "\n",
    "print(Hiroof.model)\n",
    "print(Hijet.brand)\n",
    "print(Corolla.speed)\n",
    "print(Mehran.colour)\n",
    "print(Liana.name)\n",
    "    "
   ]
  },
  {
   "cell_type": "code",
   "execution_count": null,
   "metadata": {},
   "outputs": [],
   "source": []
  },
  {
   "cell_type": "code",
   "execution_count": null,
   "metadata": {},
   "outputs": [],
   "source": []
  }
 ],
 "metadata": {
  "kernelspec": {
   "display_name": "Python 3",
   "language": "python",
   "name": "python3"
  },
  "language_info": {
   "codemirror_mode": {
    "name": "ipython",
    "version": 3
   },
   "file_extension": ".py",
   "mimetype": "text/x-python",
   "name": "python",
   "nbconvert_exporter": "python",
   "pygments_lexer": "ipython3",
   "version": "3.7.3"
  }
 },
 "nbformat": 4,
 "nbformat_minor": 2
}
